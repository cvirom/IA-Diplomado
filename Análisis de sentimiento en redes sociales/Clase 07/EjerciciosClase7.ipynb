{
 "cells": [
  {
   "cell_type": "code",
   "execution_count": 1,
   "metadata": {},
   "outputs": [],
   "source": [
    "%load_ext autoreload\n",
    "%autoreload 2\n",
    "%matplotlib inline"
   ]
  },
  {
   "cell_type": "code",
   "execution_count": 2,
   "metadata": {},
   "outputs": [],
   "source": [
    "import numpy as np\n",
    "import pandas as pd\n",
    "import matplotlib.pyplot as plt\n",
    "import seaborn as sns; sns.set(style='whitegrid')\n",
    "from tqdm import tqdm\n",
    "from collections import Counter"
   ]
  },
  {
   "cell_type": "markdown",
   "metadata": {},
   "source": [
    "# 1. Data"
   ]
  },
  {
   "cell_type": "code",
   "execution_count": 3,
   "metadata": {},
   "outputs": [
    {
     "data": {
      "text/plain": [
       "(1098, 7)"
      ]
     },
     "execution_count": 3,
     "metadata": {},
     "output_type": "execute_result"
    }
   ],
   "source": [
    "df_incidents = pd.read_csv('peru_incidents.csv')\n",
    "df_incidents.shape"
   ]
  },
  {
   "cell_type": "markdown",
   "metadata": {},
   "source": [
    "# 2. EDA"
   ]
  },
  {
   "cell_type": "code",
   "execution_count": 4,
   "metadata": {},
   "outputs": [
    {
     "data": {
      "text/html": [
       "<div>\n",
       "<style scoped>\n",
       "    .dataframe tbody tr th:only-of-type {\n",
       "        vertical-align: middle;\n",
       "    }\n",
       "\n",
       "    .dataframe tbody tr th {\n",
       "        vertical-align: top;\n",
       "    }\n",
       "\n",
       "    .dataframe thead th {\n",
       "        text-align: right;\n",
       "    }\n",
       "</style>\n",
       "<table border=\"1\" class=\"dataframe\">\n",
       "  <thead>\n",
       "    <tr style=\"text-align: right;\">\n",
       "      <th></th>\n",
       "      <th>company</th>\n",
       "    </tr>\n",
       "  </thead>\n",
       "  <tbody>\n",
       "    <tr>\n",
       "      <td>Ripley</td>\n",
       "      <td>92</td>\n",
       "    </tr>\n",
       "    <tr>\n",
       "      <td>Claro</td>\n",
       "      <td>22</td>\n",
       "    </tr>\n",
       "    <tr>\n",
       "      <td>Telefónica del Perú</td>\n",
       "      <td>21</td>\n",
       "    </tr>\n",
       "    <tr>\n",
       "      <td>Colegio Saco Oliveros</td>\n",
       "      <td>16</td>\n",
       "    </tr>\n",
       "    <tr>\n",
       "      <td>Técnicas Americanas de Estudio</td>\n",
       "      <td>16</td>\n",
       "    </tr>\n",
       "    <tr>\n",
       "      <td>Tottus</td>\n",
       "      <td>14</td>\n",
       "    </tr>\n",
       "    <tr>\n",
       "      <td>Telefónica</td>\n",
       "      <td>13</td>\n",
       "    </tr>\n",
       "    <tr>\n",
       "      <td>Saga Falabella</td>\n",
       "      <td>10</td>\n",
       "    </tr>\n",
       "    <tr>\n",
       "      <td>Interbank</td>\n",
       "      <td>10</td>\n",
       "    </tr>\n",
       "    <tr>\n",
       "      <td>Banco del Trabajo</td>\n",
       "      <td>9</td>\n",
       "    </tr>\n",
       "  </tbody>\n",
       "</table>\n",
       "</div>"
      ],
      "text/plain": [
       "                                company\n",
       "Ripley                               92\n",
       "Claro                                22\n",
       "Telefónica del Perú                  21\n",
       "Colegio Saco Oliveros                16\n",
       "Técnicas Americanas de Estudio       16\n",
       "Tottus                               14\n",
       "Telefónica                           13\n",
       "Saga Falabella                       10\n",
       "Interbank                            10\n",
       "Banco del Trabajo                     9"
      ]
     },
     "execution_count": 4,
     "metadata": {},
     "output_type": "execute_result"
    }
   ],
   "source": [
    "pd.DataFrame(df_incidents.company.value_counts()).head(10)"
   ]
  },
  {
   "cell_type": "code",
   "execution_count": 5,
   "metadata": {},
   "outputs": [
    {
     "data": {
      "text/html": [
       "<div>\n",
       "<style scoped>\n",
       "    .dataframe tbody tr th:only-of-type {\n",
       "        vertical-align: middle;\n",
       "    }\n",
       "\n",
       "    .dataframe tbody tr th {\n",
       "        vertical-align: top;\n",
       "    }\n",
       "\n",
       "    .dataframe thead th {\n",
       "        text-align: right;\n",
       "    }\n",
       "</style>\n",
       "<table border=\"1\" class=\"dataframe\">\n",
       "  <thead>\n",
       "    <tr style=\"text-align: right;\">\n",
       "      <th></th>\n",
       "      <th>location</th>\n",
       "    </tr>\n",
       "  </thead>\n",
       "  <tbody>\n",
       "    <tr>\n",
       "      <td>Lima,Lima</td>\n",
       "      <td>741</td>\n",
       "    </tr>\n",
       "    <tr>\n",
       "      <td>Arequipa,Arequipa</td>\n",
       "      <td>36</td>\n",
       "    </tr>\n",
       "    <tr>\n",
       "      <td>Miraflores,Lima</td>\n",
       "      <td>21</td>\n",
       "    </tr>\n",
       "    <tr>\n",
       "      <td>Surco,Lima</td>\n",
       "      <td>21</td>\n",
       "    </tr>\n",
       "    <tr>\n",
       "      <td>Trujillo,La Libertad</td>\n",
       "      <td>19</td>\n",
       "    </tr>\n",
       "    <tr>\n",
       "      <td>Callao,Callao</td>\n",
       "      <td>16</td>\n",
       "    </tr>\n",
       "    <tr>\n",
       "      <td>Chiclayo,Lambayeque</td>\n",
       "      <td>15</td>\n",
       "    </tr>\n",
       "    <tr>\n",
       "      <td>Piura,Piura</td>\n",
       "      <td>15</td>\n",
       "    </tr>\n",
       "    <tr>\n",
       "      <td>Cusco,Cusco</td>\n",
       "      <td>14</td>\n",
       "    </tr>\n",
       "    <tr>\n",
       "      <td>San Isidro,Lima</td>\n",
       "      <td>13</td>\n",
       "    </tr>\n",
       "  </tbody>\n",
       "</table>\n",
       "</div>"
      ],
      "text/plain": [
       "                      location\n",
       "Lima,Lima                  741\n",
       "Arequipa,Arequipa           36\n",
       "Miraflores,Lima             21\n",
       "Surco,Lima                  21\n",
       "Trujillo,La Libertad        19\n",
       "Callao,Callao               16\n",
       "Chiclayo,Lambayeque         15\n",
       "Piura,Piura                 15\n",
       "Cusco,Cusco                 14\n",
       "San Isidro,Lima             13"
      ]
     },
     "execution_count": 5,
     "metadata": {},
     "output_type": "execute_result"
    }
   ],
   "source": [
    "pd.DataFrame(df_incidents.location.value_counts()).head(10)"
   ]
  },
  {
   "cell_type": "code",
   "execution_count": 6,
   "metadata": {},
   "outputs": [
    {
     "data": {
      "text/plain": [
       "count      1098.000000\n",
       "mean       6511.188525\n",
       "std        8761.171861\n",
       "min         270.000000\n",
       "25%        2569.500000\n",
       "50%        4146.500000\n",
       "75%        7185.250000\n",
       "max      121206.000000\n",
       "Name: viewers, dtype: float64"
      ]
     },
     "execution_count": 6,
     "metadata": {},
     "output_type": "execute_result"
    }
   ],
   "source": [
    "df_incidents.viewers.describe()"
   ]
  },
  {
   "cell_type": "markdown",
   "metadata": {},
   "source": [
    "# 3. Pre-procesamiento y keywords"
   ]
  },
  {
   "cell_type": "code",
   "execution_count": 7,
   "metadata": {},
   "outputs": [],
   "source": [
    "import nltk\n",
    "import re\n",
    "from spellchecker import SpellChecker\n",
    "from nltk.corpus import stopwords\n",
    "from nltk.stem.snowball import SnowballStemmer\n",
    "import string\n",
    "import spacy\n",
    "stopwords = stopwords.words('spanish')\n",
    "#spell = SpellChecker(language='es') # Spanish dictionary\n",
    "#stemmer = SnowballStemmer(\"spanish\")\n",
    "punctuation = string.punctuation + '¿¡'\n",
    "nlp = spacy.load(\"es_core_news_md\")\n",
    "\n",
    "def text_preprocesor(text:str):\n",
    "    tokens = []\n",
    "    for w in nlp(text):\n",
    "        w = w.lemma_.lower()\n",
    "        if not re.search('[0-9]', w) and not (w in punctuation) and (w not in stopwords): tokens.append(w)\n",
    "    #tokens = [w if w in spell else spell.correction(w) for w in tokens]\n",
    "    return ' '.join(tokens)"
   ]
  },
  {
   "cell_type": "code",
   "execution_count": 8,
   "metadata": {},
   "outputs": [
    {
     "name": "stderr",
     "output_type": "stream",
     "text": [
      "/home/gbustamante/anaconda3/lib/python3.7/site-packages/tqdm/std.py:648: FutureWarning: The Panel class is removed from pandas. Accessing it from the top-level namespace will also be removed in the next version\n",
      "  from pandas import Panel\n",
      "100%|██████████| 1098/1098 [00:57<00:00, 19.26it/s]\n"
     ]
    }
   ],
   "source": [
    "tqdm.pandas()\n",
    "df_incidents['text_len'] = df_incidents.text.apply(len) \n",
    "df_incidents['text_prep'] = df_incidents.text.progress_apply(text_preprocesor) \n",
    "df_incidents['text_prep_len'] = df_incidents.text_prep.apply(len) "
   ]
  },
  {
   "cell_type": "code",
   "execution_count": 9,
   "metadata": {},
   "outputs": [
    {
     "data": {
      "text/plain": [
       "<matplotlib.legend.Legend at 0x7f0d2b33b450>"
      ]
     },
     "execution_count": 9,
     "metadata": {},
     "output_type": "execute_result"
    },
    {
     "data": {
      "image/png": "[encoded data removed]",
      "text/plain": [
       "<Figure size 576x432 with 1 Axes>"
      ]
     },
     "metadata": {},
     "output_type": "display_data"
    }
   ],
   "source": [
    "plt.figure(figsize=(8,6))\n",
    "sns.distplot(df_incidents['text_len'], hist=True, label='rawr_text')\n",
    "sns.distplot(df_incidents['text_prep_len'], hist=True, label='prep_text')\n",
    "plt.legend()"
   ]
  },
  {
   "cell_type": "code",
   "execution_count": 10,
   "metadata": {},
   "outputs": [],
   "source": [
    "df_incidents['text_prep'] = df_incidents['text_prep'].fillna('')"
   ]
  },
  {
   "cell_type": "code",
   "execution_count": 11,
   "metadata": {},
   "outputs": [
    {
     "data": {
      "text/plain": [
       "1098"
      ]
     },
     "execution_count": 11,
     "metadata": {},
     "output_type": "execute_result"
    }
   ],
   "source": [
    "df_comps = pd.DataFrame({'company': df_incidents['company'].value_counts().index,\n",
    "                       'freq': df_incidents['company'].value_counts().values})\n",
    "selected_comps = list(df_incidents['company'])\n",
    "len(selected_comps)"
   ]
  },
  {
   "cell_type": "code",
   "execution_count": 12,
   "metadata": {},
   "outputs": [],
   "source": [
    "import re\n",
    "def get_aspects(x):\n",
    "    doc=nlp(x) ## Tokenize and extract grammatical components\n",
    "    new_doc = []\n",
    "    for i in doc:\n",
    "         ## Remove common words and retain only nouns\n",
    "        if ((i.text not in stopwords) and (re.search('[a-zA-Z]', i.text)) and (i.pos_==\"NOUN\")): new_doc.append(i.text)\n",
    "    return ' '.join(new_doc)"
   ]
  },
  {
   "cell_type": "code",
   "execution_count": 14,
   "metadata": {},
   "outputs": [
    {
     "name": "stderr",
     "output_type": "stream",
     "text": [
      "100%|██████████| 1098/1098 [06:02<00:00,  3.03it/s]\n"
     ]
    }
   ],
   "source": [
    "df_incidents['keywords'] = ' '\n",
    "df_incidents['n_keywords'] = 0\n",
    "\n",
    "for comp in tqdm(selected_comps):\n",
    "    comp_reviews = list(df_incidents[df_incidents.company==comp]['text_prep'])\n",
    "    \n",
    "    nouns = [get_aspects(r) for r in comp_reviews]\n",
    "    \n",
    "    cnt = Counter(' '.join(nouns).split())\n",
    "    labels, values = zip(*cnt.items())\n",
    "    df_aspects = pd.DataFrame({'aspect': labels, 'freq': values})\n",
    "    df_aspects = df_aspects.sort_values(by='freq', ascending=False)\n",
    "    aspects = list(df_aspects.head(10)['aspect'])\n",
    "    n_keys = len(aspects)\n",
    "    aspects = ' '.join(aspects)\n",
    "    \n",
    "    df_incidents.loc[df_incidents['company']==comp, 'keywords'] = aspects\n",
    "    df_incidents.loc[df_incidents['company']==comp, 'n_keywords'] = n_keys"
   ]
  },
  {
   "cell_type": "code",
   "execution_count": 15,
   "metadata": {},
   "outputs": [
    {
     "data": {
      "text/plain": [
       "<matplotlib.axes._subplots.AxesSubplot at 0x7f0d2b27ed10>"
      ]
     },
     "execution_count": 15,
     "metadata": {},
     "output_type": "execute_result"
    },
    {
     "data": {
      "image/png": "[encoded data removed]",
      "text/plain": [
       "<Figure size 432x288 with 1 Axes>"
      ]
     },
     "metadata": {},
     "output_type": "display_data"
    }
   ],
   "source": [
    "sns.boxplot(df_incidents.n_keywords)"
   ]
  },
  {
   "cell_type": "code",
   "execution_count": 16,
   "metadata": {},
   "outputs": [
    {
     "data": {
      "text/html": [
       "<div>\n",
       "<style scoped>\n",
       "    .dataframe tbody tr th:only-of-type {\n",
       "        vertical-align: middle;\n",
       "    }\n",
       "\n",
       "    .dataframe tbody tr th {\n",
       "        vertical-align: top;\n",
       "    }\n",
       "\n",
       "    .dataframe thead th {\n",
       "        text-align: right;\n",
       "    }\n",
       "</style>\n",
       "<table border=\"1\" class=\"dataframe\">\n",
       "  <thead>\n",
       "    <tr style=\"text-align: right;\">\n",
       "      <th></th>\n",
       "      <th>company</th>\n",
       "      <th>keywords</th>\n",
       "    </tr>\n",
       "  </thead>\n",
       "  <tbody>\n",
       "    <tr>\n",
       "      <td>394</td>\n",
       "      <td>Nextel</td>\n",
       "      <td>nextel servicio costo manera tecnología veloci...</td>\n",
       "    </tr>\n",
       "    <tr>\n",
       "      <td>648</td>\n",
       "      <td>COPA Airlines</td>\n",
       "      <td>paquete respuesta pesar kilo juguete articulos...</td>\n",
       "    </tr>\n",
       "    <tr>\n",
       "      <td>1026</td>\n",
       "      <td>Ripley</td>\n",
       "      <td>tarjeta cliente día tiendas gente sol segurida...</td>\n",
       "    </tr>\n",
       "    <tr>\n",
       "      <td>698</td>\n",
       "      <td>GOL</td>\n",
       "      <td>aeropuerto hora puerta gol maleta avión chofer...</td>\n",
       "    </tr>\n",
       "    <tr>\n",
       "      <td>716</td>\n",
       "      <td>PUCP</td>\n",
       "      <td>selección vez examen sistema suerte miembro am...</td>\n",
       "    </tr>\n",
       "  </tbody>\n",
       "</table>\n",
       "</div>"
      ],
      "text/plain": [
       "            company                                           keywords\n",
       "394          Nextel  nextel servicio costo manera tecnología veloci...\n",
       "648   COPA Airlines  paquete respuesta pesar kilo juguete articulos...\n",
       "1026         Ripley  tarjeta cliente día tiendas gente sol segurida...\n",
       "698             GOL  aeropuerto hora puerta gol maleta avión chofer...\n",
       "716            PUCP  selección vez examen sistema suerte miembro am..."
      ]
     },
     "execution_count": 16,
     "metadata": {},
     "output_type": "execute_result"
    }
   ],
   "source": [
    "df_incidents[['company', 'keywords']].sample(5)"
   ]
  },
  {
   "cell_type": "markdown",
   "metadata": {},
   "source": [
    "**Filtrar y ordenar keywords por sentimiento**"
   ]
  },
  {
   "cell_type": "code",
   "execution_count": 20,
   "metadata": {},
   "outputs": [],
   "source": [
    "from classifier import *\n",
    "clf = SentimentClassifier()\n",
    "\n",
    "df_incidents['sorted_keywords'] = ' '\n",
    "df_incidents['sorted_nkeywords'] = 0\n",
    "\n",
    "for keys in df_incidents['keywords'].unique():\n",
    "    data = []\n",
    "    for k in keys.split(' '):\n",
    "        score = clf.predict(k)\n",
    "        if(score<0.5): data.append((k, score))\n",
    "    df_aux = pd.DataFrame(data, columns=['key', 'score'])\n",
    "    df_aux = df_aux.sort_values(by='score', ascending=False)\n",
    "    \n",
    "    df_incidents.loc[df_incidents['keywords']==keys, 'sorted_keywords'] = ' '.join(list(df_aux.key))\n",
    "    df_incidents.loc[df_incidents['keywords']==keys, 'sorted_nkeywords'] = len(df_aux)"
   ]
  },
  {
   "cell_type": "code",
   "execution_count": 21,
   "metadata": {},
   "outputs": [
    {
     "data": {
      "text/plain": [
       "<matplotlib.axes._subplots.AxesSubplot at 0x7f0d245f1950>"
      ]
     },
     "execution_count": 21,
     "metadata": {},
     "output_type": "execute_result"
    },
    {
     "data": {
      "image/png": "[encoded data removed]",
      "text/plain": [
       "<Figure size 432x288 with 1 Axes>"
      ]
     },
     "metadata": {},
     "output_type": "display_data"
    }
   ],
   "source": [
    "sns.boxplot(df_incidents.sorted_nkeywords)"
   ]
  },
  {
   "cell_type": "code",
   "execution_count": 22,
   "metadata": {},
   "outputs": [
    {
     "name": "stdout",
     "output_type": "stream",
     "text": [
      "['tarjeta cliente día tiendas gente sol seguridad mes cuota tiempo']\n",
      "['tarjeta cuota']\n"
     ]
    }
   ],
   "source": [
    "print(df_incidents[(df_incidents.company=='Ripley')]['keywords'].unique())\n",
    "print(df_incidents[(df_incidents.company=='Ripley')]['sorted_keywords'].unique())"
   ]
  },
  {
   "cell_type": "code",
   "execution_count": 23,
   "metadata": {},
   "outputs": [
    {
     "name": "stdout",
     "output_type": "stream",
     "text": [
      "['servicio sol empresa cliente problema mensaje vez hora velocidad gente']\n",
      "['hora problema empresa']\n"
     ]
    }
   ],
   "source": [
    "print(df_incidents[(df_incidents.company=='Claro')]['keywords'].unique())\n",
    "print(df_incidents[(df_incidents.company=='Claro')]['sorted_keywords'].unique())"
   ]
  },
  {
   "cell_type": "code",
   "execution_count": 24,
   "metadata": {},
   "outputs": [
    {
     "name": "stdout",
     "output_type": "stream",
     "text": [
      "['servicio sol empresa día dinero tiempo velocidad teléfono año madre']\n",
      "['madre teléfono empresa dinero']\n"
     ]
    }
   ],
   "source": [
    "print(df_incidents[(df_incidents.company=='Telefónica')]['keywords'].unique())\n",
    "print(df_incidents[(df_incidents.company=='Telefónica')]['sorted_keywords'].unique())"
   ]
  },
  {
   "cell_type": "code",
   "execution_count": 25,
   "metadata": {},
   "outputs": [
    {
     "name": "stdout",
     "output_type": "stream",
     "text": [
      "['tarjeta banco mes año vez banca dólar dinero cajero monedero']\n",
      "['dólar banca tarjeta banco cajero dinero']\n"
     ]
    }
   ],
   "source": [
    "print(df_incidents[(df_incidents.company=='Interbank')]['keywords'].unique())\n",
    "print(df_incidents[(df_incidents.company=='Interbank')]['sorted_keywords'].unique())"
   ]
  }
 ],
 "metadata": {
  "kernelspec": {
   "display_name": "Python 3",
   "language": "python",
   "name": "python3"
  },
  "language_info": {
   "codemirror_mode": {
    "name": "ipython",
    "version": 3
   },
   "file_extension": ".py",
   "mimetype": "text/x-python",
   "name": "python",
   "nbconvert_exporter": "python",
   "pygments_lexer": "ipython3",
   "version": "3.7.4"
  }
 },
 "nbformat": 4,
 "nbformat_minor": 4
}
